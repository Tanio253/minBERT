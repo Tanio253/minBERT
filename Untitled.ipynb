{
 "cells": [
  {
   "cell_type": "code",
   "execution_count": 4,
   "id": "3cf37943-ebae-434e-8c3d-d7e39c4c7120",
   "metadata": {},
   "outputs": [
    {
     "name": "stdout",
     "output_type": "stream",
     "text": [
      "torch.Size([1, 4, 6])\n"
     ]
    }
   ],
   "source": [
    "import torch.nn as nn\n",
    "linear = nn.Linear(2,6)\n",
    "arr1 = torch.ones((1,4,2))\n",
    "arr2 = linear(arr1)\n",
    "print(arr2.size())"
   ]
  },
  {
   "cell_type": "code",
   "execution_count": 16,
   "id": "b29f518f-b626-4204-b3e2-a1c5b1f216da",
   "metadata": {},
   "outputs": [
    {
     "ename": "AttributeError",
     "evalue": "type object 'B' has no attribute 'get_count'",
     "output_type": "error",
     "traceback": [
      "\u001b[0;31m---------------------------------------------------------------------------\u001b[0m",
      "\u001b[0;31mAttributeError\u001b[0m                            Traceback (most recent call last)",
      "Cell \u001b[0;32mIn[16], line 17\u001b[0m\n\u001b[1;32m     15\u001b[0m obj2 \u001b[38;5;241m=\u001b[39m MyClass()\n\u001b[1;32m     16\u001b[0m \u001b[38;5;66;03m# Accessing the class-level count using the class method\u001b[39;00m\n\u001b[0;32m---> 17\u001b[0m \u001b[38;5;28mprint\u001b[39m(\u001b[38;5;124m\"\u001b[39m\u001b[38;5;124mCount:\u001b[39m\u001b[38;5;124m\"\u001b[39m, \u001b[43mMyClass\u001b[49m\u001b[38;5;241;43m.\u001b[39;49m\u001b[43mget_count\u001b[49m\u001b[43m(\u001b[49m\u001b[43m)\u001b[49m)  \u001b[38;5;66;03m# Output: Count: 2\u001b[39;00m\n",
      "Cell \u001b[0;32mIn[16], line 11\u001b[0m, in \u001b[0;36mMyClass.get_count\u001b[0;34m(cls)\u001b[0m\n\u001b[1;32m      9\u001b[0m \u001b[38;5;129m@classmethod\u001b[39m\n\u001b[1;32m     10\u001b[0m \u001b[38;5;28;01mdef\u001b[39;00m \u001b[38;5;21mget_count\u001b[39m(\u001b[38;5;28mcls\u001b[39m):\n\u001b[0;32m---> 11\u001b[0m     \u001b[38;5;28;01mreturn\u001b[39;00m \u001b[38;5;28;43mcls\u001b[39;49m\u001b[38;5;241;43m.\u001b[39;49m\u001b[43mb\u001b[49m\u001b[38;5;241;43m.\u001b[39;49m\u001b[43mget_count\u001b[49m()\n",
      "\u001b[0;31mAttributeError\u001b[0m: type object 'B' has no attribute 'get_count'"
     ]
    }
   ],
   "source": [
    "class B:\n",
    "    def __init__(self):\n",
    "        count = 0\n",
    "class MyClass:\n",
    "    count = 0  # Class-level variable\n",
    "    b = B\n",
    "    def __init__(self):\n",
    "        MyClass.count += 1  # Increment the count whenever a new instance is created\n",
    "    @classmethod\n",
    "    def get_count(cls):\n",
    "        return cls.b.get_count()\n",
    "    \n",
    "# Creating instances of MyClass\n",
    "obj1 = MyClass()\n",
    "obj2 = MyClass()\n",
    "# Accessing the class-level count using the class method\n",
    "print(\"Count:\", MyClass.get_count())  # Output: Count: 2"
   ]
  },
  {
   "cell_type": "code",
   "execution_count": null,
   "id": "a083d756-8cec-4853-bfcb-1d3a424e43d0",
   "metadata": {},
   "outputs": [],
   "source": []
  }
 ],
 "metadata": {
  "kernelspec": {
   "display_name": "Python 3 (ipykernel)",
   "language": "python",
   "name": "python3"
  },
  "language_info": {
   "codemirror_mode": {
    "name": "ipython",
    "version": 3
   },
   "file_extension": ".py",
   "mimetype": "text/x-python",
   "name": "python",
   "nbconvert_exporter": "python",
   "pygments_lexer": "ipython3",
   "version": "3.8.10"
  }
 },
 "nbformat": 4,
 "nbformat_minor": 5
}
