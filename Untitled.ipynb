{
 "cells": [
  {
   "cell_type": "code",
   "execution_count": 4,
   "id": "3cf37943-ebae-434e-8c3d-d7e39c4c7120",
   "metadata": {},
   "outputs": [
    {
     "name": "stdout",
     "output_type": "stream",
     "text": [
      "torch.Size([1, 4, 6])\n"
     ]
    }
   ],
   "source": [
    "import torch.nn as nn\n",
    "linear = nn.Linear(2,6)\n",
    "arr1 = torch.ones((1,4,2))\n",
    "arr2 = linear(arr1)\n",
    "print(arr2.size())"
   ]
  },
  {
   "cell_type": "code",
   "execution_count": 18,
   "id": "b29f518f-b626-4204-b3e2-a1c5b1f216da",
   "metadata": {},
   "outputs": [
    {
     "name": "stdout",
     "output_type": "stream",
     "text": [
      "Count: 0\n"
     ]
    }
   ],
   "source": [
    "class MyClass:\n",
    "    count = 0  # Class-level variable\n",
    "    def __init__(self):\n",
    "        MyClass.count += 1  # Increment the count whenever a new instance is created\n",
    "    @classmethod\n",
    "    def get_count(cls):\n",
    "        return cls.count\n",
    "    \n",
    "# Creating instances of MyClass\n",
    "\n",
    "# Accessing the class-level count using the class method\n",
    "print(\"Count:\", MyClass.get_count())  # Output: Count: 2"
   ]
  },
  {
   "cell_type": "code",
   "execution_count": null,
   "id": "a083d756-8cec-4853-bfcb-1d3a424e43d0",
   "metadata": {},
   "outputs": [],
   "source": []
  }
 ],
 "metadata": {
  "kernelspec": {
   "display_name": "Python 3 (ipykernel)",
   "language": "python",
   "name": "python3"
  },
  "language_info": {
   "codemirror_mode": {
    "name": "ipython",
    "version": 3
   },
   "file_extension": ".py",
   "mimetype": "text/x-python",
   "name": "python",
   "nbconvert_exporter": "python",
   "pygments_lexer": "ipython3",
   "version": "3.8.10"
  }
 },
 "nbformat": 4,
 "nbformat_minor": 5
}
